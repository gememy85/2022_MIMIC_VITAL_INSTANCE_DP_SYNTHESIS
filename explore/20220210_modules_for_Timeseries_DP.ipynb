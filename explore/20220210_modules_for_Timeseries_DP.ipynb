{
 "cells": [
  {
   "cell_type": "markdown",
   "metadata": {},
   "source": [
    "This is the simulation and test codes for Timeseries DP synthesizing method"
   ]
  },
  {
   "cell_type": "code",
   "execution_count": null,
   "metadata": {},
   "outputs": [
    {
     "ename": "",
     "evalue": "",
     "output_type": "error",
     "traceback": [
      "\u001b[1;31mFailed to start Jupyter in the environment 'Python 3.6.8 64-bit (/bin/python3)'. \n",
      "View Jupyter <a href='command:jupyter.viewOutput'>log</a> for further details."
     ]
    }
   ],
   "source": [
    "import pandas as pd\n",
    "import numpy as np\n",
    "from scipy import interpolate"
   ]
  },
  {
   "cell_type": "markdown",
   "metadata": {},
   "source": [
    "build function for adding windows in a timeseries"
   ]
  },
  {
   "cell_type": "code",
   "execution_count": 5,
   "metadata": {},
   "outputs": [],
   "source": [
    "# add windows function\n",
    "\n",
    "def add_windows(timeseries:np.array, window_size:int):\n",
    "    '''\n",
    "    This function adds window in the front and back of a given timeseries.\n",
    "    The amount of window size is added.\n",
    "    '''\n",
    "    \n",
    "    # first fill the added points with Na values \n",
    "    timeseries_list = timeseries.tolist()\n",
    "    added_windows = np.repeat(np.nan, window_size).tolist()\n",
    "    inserted_timeseries = np.array(added_windows + timeseries_list + added_windows)\n",
    "\n",
    "    # now we interpolate the Na values\n",
    "    xs = [x for x in range(len(inserted_timeseries))]\n",
    "    f = interpolate.interp1d(xs[window_size:-window_size], timeseries_list, fill_value='extrapolate')\n",
    "    interpolated_timeseries = f(xs)\n",
    "    \n",
    "    return interpolated_timeseries"
   ]
  },
  {
   "cell_type": "markdown",
   "metadata": {},
   "source": [
    "import sample"
   ]
  },
  {
   "cell_type": "code",
   "execution_count": 9,
   "metadata": {},
   "outputs": [],
   "source": [
    "df = pd.read_csv('../data/processed/live_df_interpolated.csv')\n",
    "\n",
    "df.head()\n",
    "\n",
    "sample_sequence = df[df.subject_id == 10001884]"
   ]
  },
  {
   "cell_type": "code",
   "execution_count": 13,
   "metadata": {},
   "outputs": [
    {
     "data": {
      "text/plain": [
       "array([71., 68., 65., 63., 63., 66., 66., 65., 66., 66., 67., 66., 63.,\n",
       "       64., 70., 71., 74., 74., 72., 74., 77., 87., 75., 74., 73.])"
      ]
     },
     "execution_count": 13,
     "metadata": {},
     "output_type": "execute_result"
    }
   ],
   "source": [
    "add_windows(sample_sequence['heart_rate'],1)\n",
    "# It works!"
   ]
  },
  {
   "cell_type": "markdown",
   "metadata": {},
   "source": [
    "Now we need to make a module for the BLM which is the boundary feeder"
   ]
  },
  {
   "cell_type": "code",
   "execution_count": 42,
   "metadata": {},
   "outputs": [
    {
     "name": "stdout",
     "output_type": "stream",
     "text": [
      "/bin/bash: tree: command not found\n"
     ]
    }
   ],
   "source": [
    "!tree timedp"
   ]
  },
  {
   "cell_type": "code",
   "execution_count": null,
   "metadata": {},
   "outputs": [
    {
     "ename": "",
     "evalue": "",
     "output_type": "error",
     "traceback": [
      "\u001b[1;31mFailed to start Jupyter in the environment 'Python 3.6.8 64-bit (/bin/python3)'. \n",
      "View Jupyter <a href='command:jupyter.viewOutput'>log</a> for further details."
     ]
    }
   ],
   "source": [
    "# %%writefile ../timedp/mechanism/Numbers.py\n",
    "\n",
    "class Numbers:\n",
    "    def __init__(self, value:float):\n",
    "        self.value = value\n",
    "\n",
    "    def __repr__(self):\n",
    "        return f\"Numbers(type=={self.number_type})\"\n",
    "\n",
    "    def __str__(self):\n",
    "        return self.value\n",
    "\n",
    "class Positive(Numbers):\n",
    "    def __init__(self, value):\n",
    "        super().__init__(value)\n",
    "        self.number_type = \"positive\"\n",
    "    \n",
    "class Negative(Numbers):\n",
    "    def __init__(self, value):\n",
    "        super().__init__(value)\n",
    "        self.number_type = \"negative\"\n",
    "\n",
    "class Zero(Numbers):\n",
    "    def __init__(self, value):\n",
    "        super().__init__(value)\n",
    "        self.number_type = \"zero\"\n",
    "\n",
    "\n",
    "Zero(0)"
   ]
  },
  {
   "cell_type": "code",
   "execution_count": 91,
   "metadata": {},
   "outputs": [
    {
     "name": "stdout",
     "output_type": "stream",
     "text": [
      "Writing ../timedp/mechanism/Trend.py\n"
     ]
    }
   ],
   "source": [
    "# %%writefile ../timedp/mechanism/Trend.py\n",
    "\n",
    "class Trend:\n",
    "    '''\n",
    "    This class is a class that defines trend type\n",
    "    '''\n",
    "    def __init__(self,value_before, value, value_after, time_window):\n",
    "        self.value_before = value_before\n",
    "        self.value = value\n",
    "        self.value_after = value_after\n",
    "        self.time_window = time_window\n",
    "\n",
    "        if time_window <= 0 :\n",
    "            raise ValueError('time window should be a positive integer!')\n",
    "\n",
    "        self.trend = self._define_trend()\n",
    "    \n",
    "    def _define_trend_type(self, value):\n",
    "\n",
    "        if value == 0 :\n",
    "            return Zero(value)\n",
    "        elif value > 0 :\n",
    "            return Positive(value)\n",
    "        else :\n",
    "            return Negative(value)\n",
    "\n",
    "    \n",
    "    def _define_trend(self):\n",
    "        between_value_before_and_value =  (self.value-self.value_before)/self.time_window\n",
    "        between_value_after_and_value = (self.value_after-self.value)/self.time_window\n",
    "    \n",
    "        trend = tuple(list(map(self._define_trend_type,[between_value_before_and_value, between_value_after_and_value])))\n",
    "        return trend\n",
    "    \n",
    "\n",
    "Trend(2,3,1,1).trend\n",
    "# the trend between t-1, t and t, t+1"
   ]
  },
  {
   "cell_type": "code",
   "execution_count": 37,
   "metadata": {},
   "outputs": [
    {
     "name": "stdout",
     "output_type": "stream",
     "text": [
      "Overwriting ../timedp/boundary_feeder.py\n"
     ]
    }
   ],
   "source": [
    "# %%writefile ../timedp/boundary_feeder.py\n",
    "\n",
    "class BoundaryFeeder:\n",
    "    '''\n",
    "    This object is a boundary feeder used when the Timeseries DP algorithm is onging.\n",
    "    This class give the boundary information to the BLM\n",
    "    '''\n",
    "\n",
    "    def __init__(self, timeseries : np.array, window_size: int):\n",
    "        self.timeseries = timeseries\n",
    "        self.window_size = window_size\n",
    "        self.boundary_information = self._make_boundary_information() \n",
    "    \n",
    "    def _get_boundary(self, idx):\n",
    "        value = self.timeseries[idx]\n",
    "        v_before, v_after = self.timeseries[idx - self.window_size], self.timeseries[idx + self.window_size]\n",
    "        return v_before, v_after\n",
    "\n",
    "    def _make_boundary_information(self):\n",
    "        theLength = len(self.timeseries)\n",
    "        idx_list = [idx for idx in range(self.window_size, theLength-self.window_size)]\n",
    "        boundary_list = map(self._get_boundary, idx_list)\n",
    "\n",
    "        return {idx : (v_before, v_after) for idx, (v_before, v_after) in zip(idx_list, boundary_list)}\n",
    "\n",
    "    def _check_trend(self, value, boundary:tuple):\n",
    "        '''\n",
    "        checks the trend of t-window_size, t, t+window_size\n",
    "        classifies the the trend\n",
    "        '''\n",
    "        # case increasing or decreasing\n",
    "        \n",
    "\n",
    "    # def _feed(self):\n",
    "        \n"
   ]
  },
  {
   "cell_type": "code",
   "execution_count": 35,
   "metadata": {},
   "outputs": [
    {
     "data": {
      "text/plain": [
       "{1: (68.0, 63.0),\n",
       " 2: (65.0, 63.0),\n",
       " 3: (63.0, 66.0),\n",
       " 4: (63.0, 66.0),\n",
       " 5: (66.0, 65.0),\n",
       " 6: (66.0, 66.0),\n",
       " 7: (65.0, 66.0),\n",
       " 8: (66.0, 67.0),\n",
       " 9: (66.0, 66.0),\n",
       " 10: (67.0, 63.0),\n",
       " 11: (66.0, 64.0),\n",
       " 12: (63.0, 70.0),\n",
       " 13: (64.0, 71.0),\n",
       " 14: (70.0, 74.0),\n",
       " 15: (71.0, 74.0),\n",
       " 16: (74.0, 72.0),\n",
       " 17: (74.0, 74.0),\n",
       " 18: (72.0, 77.0),\n",
       " 19: (74.0, 87.0),\n",
       " 20: (77.0, 75.0),\n",
       " 21: (87.0, 74.0)}"
      ]
     },
     "execution_count": 35,
     "metadata": {},
     "output_type": "execute_result"
    }
   ],
   "source": [
    "myFeeder = BoundaryFeeder(sample_sequence['heart_rate'], 1)\n",
    "myFeeder.boundary_information"
   ]
  },
  {
   "cell_type": "markdown",
   "metadata": {},
   "source": [
    "Finally, we make our time DP synthesizer"
   ]
  },
  {
   "cell_type": "code",
   "execution_count": null,
   "metadata": {},
   "outputs": [],
   "source": [
    "class TimeDPSynthesizer():\n",
    "\n",
    "    def __init__(self, timeseries : np.array, feeder: object,epsilon: float, delta: float):\n",
    "        self.timeseries = timeseries\n",
    "        self.feeder = feeder\n",
    "        self.epsilon = epsilon\n",
    "        self.delt = delta\n",
    "\n",
    "    def _        \n"
   ]
  },
  {
   "cell_type": "markdown",
   "metadata": {},
   "source": [
    "# Imaginary Code\n",
    "\n",
    "The code that I want to make is something like this..\n",
    "\n",
    "```{python}\n",
    "list_of_arrays = [array1, array2, array3...]\n",
    "synthesized_array_list = []\n",
    "for array in list_of_arrays:\n",
    "    myFeeder = BoundaryFeeder(array, window_size = 1)\n",
    "    synthesizer = TimeDPSynthesizer(myFeeder)\n",
    "\n",
    "    synthesized_array = synthesizer.synthesize\n",
    "    synthesized_array_list.append(synthesized_array)\n",
    "```\n",
    "\n",
    "We implement this code in below"
   ]
  },
  {
   "cell_type": "markdown",
   "metadata": {},
   "source": []
  }
 ],
 "metadata": {
  "interpreter": {
   "hash": "f54204af7d368dd9ae8b1d8dbb5fbeeb4ed402dd90c2a491ee74228476e8faed"
  },
  "kernelspec": {
   "display_name": "Python 3.8.12 64-bit ('2022_MIMIC_DP_SYNTHESIS')",
   "language": "python",
   "name": "python3"
  },
  "language_info": {
   "codemirror_mode": {
    "name": "ipython",
    "version": 3
   },
   "file_extension": ".py",
   "mimetype": "text/x-python",
   "name": "python",
   "nbconvert_exporter": "python",
   "pygments_lexer": "ipython3",
   "version": "3.8.12"
  },
  "orig_nbformat": 4
 },
 "nbformat": 4,
 "nbformat_minor": 2
}
