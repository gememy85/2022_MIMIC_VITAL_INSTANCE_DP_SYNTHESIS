{
 "cells": [
  {
   "cell_type": "markdown",
   "metadata": {},
   "source": [
    "This is the simulation and test codes for Timeseries DP synthesizing method"
   ]
  },
  {
   "cell_type": "code",
   "execution_count": 1,
   "metadata": {},
   "outputs": [],
   "source": [
    "import pandas as pd\n",
    "import numpy as np\n",
    "from scipy import interpolate"
   ]
  },
  {
   "cell_type": "markdown",
   "metadata": {},
   "source": [
    "build function for adding windows in a timeseries"
   ]
  },
  {
   "cell_type": "code",
   "execution_count": 5,
   "metadata": {},
   "outputs": [],
   "source": [
    "# add windows function\n",
    "\n",
    "def add_windows(timeseries:np.array, window_size:int):\n",
    "    '''\n",
    "    This function adds window in the front and back of a given timeseries.\n",
    "    The amount of window size is added.\n",
    "    '''\n",
    "    \n",
    "    # first fill the added points with Na values \n",
    "    timeseries_list = timeseries.tolist()\n",
    "    added_windows = np.repeat(np.nan, window_size).tolist()\n",
    "    inserted_timeseries = np.array(added_windows + timeseries_list + added_windows)\n",
    "\n",
    "    # now we interpolate the Na values\n",
    "    xs = [x for x in range(len(inserted_timeseries))]\n",
    "    f = interpolate.interp1d(xs[window_size:-window_size], timeseries_list, fill_value='extrapolate')\n",
    "    interpolated_timeseries = f(xs)\n",
    "    \n",
    "    return interpolated_timeseries"
   ]
  },
  {
   "cell_type": "markdown",
   "metadata": {},
   "source": [
    "import sample"
   ]
  },
  {
   "cell_type": "code",
   "execution_count": 9,
   "metadata": {},
   "outputs": [],
   "source": [
    "df = pd.read_csv('../data/processed/live_df_interpolated.csv')\n",
    "\n",
    "df.head()\n",
    "\n",
    "sample_sequence = df[df.subject_id == 10001884]"
   ]
  },
  {
   "cell_type": "code",
   "execution_count": 13,
   "metadata": {},
   "outputs": [
    {
     "data": {
      "text/plain": [
       "array([71., 68., 65., 63., 63., 66., 66., 65., 66., 66., 67., 66., 63.,\n",
       "       64., 70., 71., 74., 74., 72., 74., 77., 87., 75., 74., 73.])"
      ]
     },
     "execution_count": 13,
     "metadata": {},
     "output_type": "execute_result"
    }
   ],
   "source": [
    "add_windows(sample_sequence['heart_rate'],1)\n",
    "# It works!"
   ]
  },
  {
   "cell_type": "markdown",
   "metadata": {},
   "source": [
    "Now we need to make a module for the BLM which is the boundary feeder"
   ]
  },
  {
   "cell_type": "code",
   "execution_count": 16,
   "metadata": {},
   "outputs": [],
   "source": [
    "# boundary feeder\n",
    "\n",
    "class BoundaryFeeder():\n",
    "    '''\n",
    "    This object is a boundary feeder used when the Timeseries DP algorithm is onging.\n",
    "    This class give the boundary information to the BLM\n",
    "    '''\n",
    "\n",
    "    def __init__(self, timeseries : np.array, window_size: int):\n",
    "        self.timeseries = timeseries\n",
    "        self.window_size = window_size\n",
    "        self.boundary_information = self._make_boundary_information() \n",
    "    \n",
    "    def _get_boundary(self, idx):\n",
    "        value = self.timeseries[idx]\n",
    "        v_before, v_after = self.timeseries[idx - self.window_size], self.timeseries[idx + self.window_size]\n",
    "        return value, (v_before, v_after)\n",
    "\n",
    "    def _make_boundary_information(self):\n",
    "        theTimeLength = len(self.timeseries)\n",
    "        idx_list = [idx for idx in range(theTimeLength)]\n",
    "\n",
    "        return {for idx, val in zip(, timeseries[self.window_size:-self.window_size])}\n",
    "\n",
    "    # def _feed(self):\n",
    "        \n"
   ]
  },
  {
   "cell_type": "code",
   "execution_count": 18,
   "metadata": {},
   "outputs": [
    {
     "ename": "TypeError",
     "evalue": "'int' object is not subscriptable",
     "output_type": "error",
     "traceback": [
      "\u001b[0;31m---------------------------------------------------------------------------\u001b[0m",
      "\u001b[0;31mTypeError\u001b[0m                                 Traceback (most recent call last)",
      "\u001b[1;32m/home/wonseok/2022_mimic_vital_instance_dp_synthesis/explore/20220210_modules_for_Timeseries_DP.ipynb Cell 10'\u001b[0m in \u001b[0;36m<module>\u001b[0;34m\u001b[0m\n\u001b[0;32m----> <a href='vscode-notebook-cell://ssh-remote%2B61.252.54.67/home/wonseok/2022_mimic_vital_instance_dp_synthesis/explore/20220210_modules_for_Timeseries_DP.ipynb#ch0000015vscode-remote?line=0'>1</a>\u001b[0m myFeeder \u001b[39m=\u001b[39m BoundaryFeeder(sample_sequence[\u001b[39m'\u001b[39;49m\u001b[39mheart_rate\u001b[39;49m\u001b[39m'\u001b[39;49m], \u001b[39m1\u001b[39;49m)\n",
      "\u001b[1;32m/home/wonseok/2022_mimic_vital_instance_dp_synthesis/explore/20220210_modules_for_Timeseries_DP.ipynb Cell 9'\u001b[0m in \u001b[0;36mBoundaryFeeder.__init__\u001b[0;34m(self, timeseries, window_size)\u001b[0m\n\u001b[1;32m     <a href='vscode-notebook-cell://ssh-remote%2B61.252.54.67/home/wonseok/2022_mimic_vital_instance_dp_synthesis/explore/20220210_modules_for_Timeseries_DP.ipynb#ch0000014vscode-remote?line=9'>10</a>\u001b[0m \u001b[39mself\u001b[39m\u001b[39m.\u001b[39mtimeseries \u001b[39m=\u001b[39m timeseries\n\u001b[1;32m     <a href='vscode-notebook-cell://ssh-remote%2B61.252.54.67/home/wonseok/2022_mimic_vital_instance_dp_synthesis/explore/20220210_modules_for_Timeseries_DP.ipynb#ch0000014vscode-remote?line=10'>11</a>\u001b[0m \u001b[39mself\u001b[39m\u001b[39m.\u001b[39mwindow_size \u001b[39m=\u001b[39m window_size\n\u001b[0;32m---> <a href='vscode-notebook-cell://ssh-remote%2B61.252.54.67/home/wonseok/2022_mimic_vital_instance_dp_synthesis/explore/20220210_modules_for_Timeseries_DP.ipynb#ch0000014vscode-remote?line=11'>12</a>\u001b[0m \u001b[39mself\u001b[39m\u001b[39m.\u001b[39mboundary_information \u001b[39m=\u001b[39m \u001b[39mself\u001b[39;49m\u001b[39m.\u001b[39;49m_make_boundary_information()\n",
      "\u001b[1;32m/home/wonseok/2022_mimic_vital_instance_dp_synthesis/explore/20220210_modules_for_Timeseries_DP.ipynb Cell 9'\u001b[0m in \u001b[0;36mBoundaryFeeder._make_boundary_information\u001b[0;34m(self)\u001b[0m\n\u001b[1;32m     <a href='vscode-notebook-cell://ssh-remote%2B61.252.54.67/home/wonseok/2022_mimic_vital_instance_dp_synthesis/explore/20220210_modules_for_Timeseries_DP.ipynb#ch0000014vscode-remote?line=14'>15</a>\u001b[0m timeseries \u001b[39m=\u001b[39m \u001b[39mself\u001b[39m\u001b[39m.\u001b[39mtimeseries\n\u001b[1;32m     <a href='vscode-notebook-cell://ssh-remote%2B61.252.54.67/home/wonseok/2022_mimic_vital_instance_dp_synthesis/explore/20220210_modules_for_Timeseries_DP.ipynb#ch0000014vscode-remote?line=15'>16</a>\u001b[0m theTimeLength \u001b[39m=\u001b[39m \u001b[39mlen\u001b[39m(timeseries)\n\u001b[0;32m---> <a href='vscode-notebook-cell://ssh-remote%2B61.252.54.67/home/wonseok/2022_mimic_vital_instance_dp_synthesis/explore/20220210_modules_for_Timeseries_DP.ipynb#ch0000014vscode-remote?line=17'>18</a>\u001b[0m \u001b[39mreturn\u001b[39;00m {idx : (val, timeseries[idx \u001b[39m+\u001b[39m \u001b[39mself\u001b[39m\u001b[39m.\u001b[39mwindow_size]) \u001b[39mfor\u001b[39;00m idx, val \u001b[39min\u001b[39;00m \u001b[39mzip\u001b[39m(theTimeLength[:\u001b[39m-\u001b[39;49m\u001b[39m1\u001b[39;49m],timeseries[:\u001b[39m-\u001b[39m\u001b[39m1\u001b[39m])}\n",
      "\u001b[0;31mTypeError\u001b[0m: 'int' object is not subscriptable"
     ]
    }
   ],
   "source": [
    "myFeeder = BoundaryFeeder(sample_sequence['heart_rate'], 1)"
   ]
  },
  {
   "cell_type": "markdown",
   "metadata": {},
   "source": [
    "Finally, we make our time DP synthesizer"
   ]
  },
  {
   "cell_type": "code",
   "execution_count": null,
   "metadata": {},
   "outputs": [],
   "source": [
    "class TimeDPSynthesizer():\n",
    "\n",
    "    def __init__(self, timeseries : np.array, epsilon, delta):\n",
    "        \n"
   ]
  },
  {
   "cell_type": "code",
   "execution_count": null,
   "metadata": {},
   "outputs": [],
   "source": [
    "# Imaginary Code\n",
    "\n",
    "list_of_arrays = []\n",
    "for array in list_of_arrays:\n",
    "    myFeeder = BoundaryFeeder(array, 1)"
   ]
  }
 ],
 "metadata": {
  "interpreter": {
   "hash": "f54204af7d368dd9ae8b1d8dbb5fbeeb4ed402dd90c2a491ee74228476e8faed"
  },
  "kernelspec": {
   "display_name": "Python 3.8.12 64-bit ('2022_MIMIC_DP_SYNTHESIS')",
   "language": "python",
   "name": "python3"
  },
  "language_info": {
   "codemirror_mode": {
    "name": "ipython",
    "version": 3
   },
   "file_extension": ".py",
   "mimetype": "text/x-python",
   "name": "python",
   "nbconvert_exporter": "python",
   "pygments_lexer": "ipython3",
   "version": "3.8.12"
  },
  "orig_nbformat": 4
 },
 "nbformat": 4,
 "nbformat_minor": 2
}
