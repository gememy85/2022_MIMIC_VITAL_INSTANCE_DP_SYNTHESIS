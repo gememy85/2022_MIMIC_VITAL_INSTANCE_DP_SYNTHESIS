{
 "cells": [
  {
   "cell_type": "code",
   "execution_count": 2,
   "metadata": {},
   "outputs": [],
   "source": [
    "import pandas as pd\n",
    "import numpy as np\n",
    "import matplotlib.pyplot as plt"
   ]
  },
  {
   "cell_type": "markdown",
   "metadata": {},
   "source": [
    "# New Algorithm\n",
    "\n",
    "I thought about a new algorithm, I will call this algorithm timeDP2. This algorithm adds noise to the gradients of the values.\n",
    "If a given vector is a T size vector, we calculate the linear interpolation of those values in every values. Take only the middle values and then calculate the gradients for each original values to the new ones. And then add laplace noise or Bounded Laplace mechanism.\n",
    "\n",
    "I want to see what the output looks like."
   ]
  },
  {
   "cell_type": "markdown",
   "metadata": {},
   "source": [
    "First I will make the project folder. `timeDP2` and define a laplace noise or a bounded laplace noise mechanism"
   ]
  },
  {
   "cell_type": "code",
   "execution_count": 8,
   "metadata": {},
   "outputs": [
    {
     "name": "stdout",
     "output_type": "stream",
     "text": [
      "Writing ../timeDP2/mechanism/__init__.py\n"
     ]
    }
   ],
   "source": [
    "%%writefile ../timeDP2/mechanism/__init__.py\n",
    "# %%writefile ../timeDP2/utils/__init__.py\n",
    "# %%writefile ../timeDP2/__init__.py\n"
   ]
  },
  {
   "cell_type": "code",
   "execution_count": 45,
   "metadata": {},
   "outputs": [
    {
     "name": "stdout",
     "output_type": "stream",
     "text": [
      "Writing ../timeDP2/mechanism/laplace_mechanism.py\n"
     ]
    }
   ],
   "source": [
    "%%writefile ../timeDP2/mechanism/laplace_mechanism.py\n",
    "import numpy as np\n",
    "\n",
    "def laplace_mechanism(value : float, sensitivity: float, epsilon:float):\n",
    "    scale = sensitivity/epsilon\n",
    "    noise = np.random.laplace(0, size=1, scale=scale)\n",
    "    return value + noise.item()"
   ]
  },
  {
   "cell_type": "markdown",
   "metadata": {},
   "source": [
    "Now that we finished writing the mechanisms, we will start to write the Algorithm code.\n",
    "\n",
    "First, in a given dataset, which is a vector(a vector is expected), we will make a function that extends the vector in a 2*T sized vector. And the we will calculate the gradients and save the new values only. We will simulate our new code with a small toy dataset"
   ]
  },
  {
   "cell_type": "code",
   "execution_count": 74,
   "metadata": {},
   "outputs": [
    {
     "data": {
      "text/plain": [
       "0    68.0\n",
       "1    65.0\n",
       "2    63.0\n",
       "3    63.0\n",
       "4    66.0\n",
       "Name: 0, dtype: float32"
      ]
     },
     "execution_count": 74,
     "metadata": {},
     "output_type": "execute_result"
    }
   ],
   "source": [
    "from pathlib import Path\n",
    "\n",
    "CURDIR = Path().cwd()\n",
    "PROJECT_DIR = CURDIR.parent\n",
    "data = np.load(PROJECT_DIR.joinpath('data/processed/death_numpy.npz'))['result']\n",
    "\n",
    "toy_vector = pd.DataFrame(np.transpose(data, (1,0,-1))[0]).T[0]\n",
    "toy_vector.head()"
   ]
  },
  {
   "cell_type": "code",
   "execution_count": 117,
   "metadata": {},
   "outputs": [
    {
     "ename": "TypeError",
     "evalue": "'int' object is not iterable",
     "output_type": "error",
     "traceback": [
      "\u001b[0;31m---------------------------------------------------------------------------\u001b[0m",
      "\u001b[0;31mTypeError\u001b[0m                                 Traceback (most recent call last)",
      "\u001b[1;32m/home/wonseok/2022_mimic_vital_instance_dp_synthesis/explore/20220212_timedp_new_algorithm.ipynb Cell 8'\u001b[0m in \u001b[0;36m<module>\u001b[0;34m\u001b[0m\n\u001b[0;32m----> <a href='vscode-notebook-cell://ssh-remote%2B61.252.54.67/home/wonseok/2022_mimic_vital_instance_dp_synthesis/explore/20220212_timedp_new_algorithm.ipynb#ch0000016vscode-remote?line=0'>1</a>\u001b[0m \u001b[39mfor\u001b[39;00m i,z \u001b[39min\u001b[39;00m \u001b[39mzip\u001b[39;49m([\u001b[39m1\u001b[39;49m,\u001b[39m2\u001b[39;49m,\u001b[39m3\u001b[39;49m,\u001b[39m4\u001b[39;49m,\u001b[39m5\u001b[39;49m],[\u001b[39m6\u001b[39;49m,\u001b[39m7\u001b[39;49m,\u001b[39m8\u001b[39;49m,\u001b[39m9\u001b[39;49m,\u001b[39m10\u001b[39;49m],\u001b[39m2\u001b[39;49m):\n\u001b[1;32m      <a href='vscode-notebook-cell://ssh-remote%2B61.252.54.67/home/wonseok/2022_mimic_vital_instance_dp_synthesis/explore/20220212_timedp_new_algorithm.ipynb#ch0000016vscode-remote?line=1'>2</a>\u001b[0m     \u001b[39mprint\u001b[39m(i,z)\n",
      "\u001b[0;31mTypeError\u001b[0m: 'int' object is not iterable"
     ]
    }
   ],
   "source": [
    "for i,z in zip([1,2,3,4,5],[6,7,8,9,10],2):\n",
    "    print(i,z)"
   ]
  },
  {
   "cell_type": "code",
   "execution_count": 124,
   "metadata": {},
   "outputs": [
    {
     "name": "stdout",
     "output_type": "stream",
     "text": [
      "Overwriting ../timeDP2/utils/functions.py\n"
     ]
    }
   ],
   "source": [
    "%%writefile ../timeDP2/utils/functions.py\n",
    "\n",
    "import numpy as np\n",
    "from scipy import interpolate\n",
    "\n",
    "def make_extended_vector(vector : np.array):\n",
    "    '''\n",
    "    This function takes a given function and outputs a extended version of the vector\n",
    "    The extended values are the linear interpolated values\n",
    "    '''\n",
    "    length_of_timestep = len(vector)\n",
    "    xs = [2*x+1 for x in range(0,length_of_timestep)]\n",
    "    new_xs = [x for x in range(0,2*length_of_timestep)]\n",
    "    \n",
    "    f = interpolate.interp1d(xs, vector, fill_value='extrapolate')\n",
    "    \n",
    "    return f(new_xs)\n",
    "\n",
    "\n",
    "def make_coordinate_list(x_vector : list, y_vector : list, step: int):\n",
    "    coordinate_list = [(x,y) for x, y in zip(x_vector, y_vector)][::step]\n",
    "    return coordinate_list\n",
    "\n",
    "\n",
    "def calculate_gradient(two_points:tuple, dx=1):\n",
    "    '''\n",
    "    This function calculates the gradient of a two point.\n",
    "    The precondition is that the dx of a given two points is 1. But this can be changed.\n",
    "    two_points : (x_0, x_1) \n",
    "    '''\n",
    "    if dx <= 0 : \n",
    "        raise ValueError('dx should be larger than 0')\n",
    "    \n",
    "    x0, x1 = two_points\n",
    "    grad = (x1 - x0)/dx\n",
    "    return grad\n",
    "\n",
    "\n",
    "def give_calculated_gradient_list(extended_vector:list, step=2):\n",
    "    '''\n",
    "    This function takes the extended vector as its input and calculates the gradient.\n",
    "    It outputs the gradient for every point.\n",
    "    step : step size to calculate the gradient. default : 2\n",
    "    '''\n",
    "    number_of_chunks = int(len(extended_vector) / 2)\n",
    "    chunks = [(extended_vector[num*2],extended_vector[num*2+1]) for num in range(0,number_of_chunks)]\n",
    "    return list(map(calculate_gradient,chunks))\n",
    "\n",
    "\n",
    "def calculate_linear_function_form(coordinate: tuple, gradient: float):\n",
    "    '''\n",
    "    This function calculates the linear function parameters.\n",
    "    coordinate : (x,y)\n",
    "    y = ax + b\n",
    "    '''\n",
    "    x, y = coordinate\n",
    "    b = y - x*gradient \n",
    "    return gradient, b"
   ]
  },
  {
   "cell_type": "code",
   "execution_count": 123,
   "metadata": {},
   "outputs": [
    {
     "data": {
      "text/plain": [
       "[(1, 7), (3, 9), (5, 11)]"
      ]
     },
     "execution_count": 123,
     "metadata": {},
     "output_type": "execute_result"
    }
   ],
   "source": [
    "make_coordinate_list([1,2,3,4,5,6],[7,8,9,10,11,12], 2)"
   ]
  },
  {
   "cell_type": "markdown",
   "metadata": {},
   "source": [
    "Now we make the noise algorithm and algorithm to restore the original form"
   ]
  },
  {
   "cell_type": "code",
   "execution_count": 127,
   "metadata": {},
   "outputs": [
    {
     "name": "stdout",
     "output_type": "stream",
     "text": [
      "Overwriting ../timeDP2/algorithm/timedp_algorithm.py\n"
     ]
    }
   ],
   "source": [
    "%%writefile ../timeDP2/algorithm/timedp_algorithm.py\n",
    "# import os, sys\n",
    "# sys.path.append('../')\n",
    "\n",
    "from timeDP2.utils.functions import *\n",
    "from timeDP2.mechanism import bounded_laplace_mechanism as BLM\n",
    "from timeDP2.mechanism import laplace_mechanism as LM\n",
    "\n",
    "class TimeDP:\n",
    "    \n",
    "    def __init__(self, epsilon, delta, mechanism_type : str):\n",
    "        '''\n",
    "        This class is a noise giving class. It takes the gradient and calculates new synthezied series data\n",
    "        you can choose two types of mechanism. Original laplace mechanism or Bounded Laplace Mechanism\n",
    "        mechanism_type : 1) laplace, 2) bouned_laplace\n",
    "        '''\n",
    "        self.epsilon = epsilon\n",
    "        self.delta = delta \n",
    "        self.mechanism_type = mechanism_type\n",
    "        self.mechanism = self._dp_mechanism()\n",
    "    \n",
    "    def _dp_mechanism(self):\n",
    "        if self.mechanism_type == 'laplace':\n",
    "            return LM.laplace_mechanism\n",
    "        else :\n",
    "            return BLM.boundedlaplacemechanism\n",
    "        \n",
    "    def calculate_dp_value(self, val, sens):\n",
    "        '''\n",
    "        requires value(val) and sensitivity(sens)\n",
    "        '''\n",
    "        if self.mechanism_type == 'laplace':\n",
    "            return self.mechanism(value=val, sensitivity=sens, epsilon=self.epsilon)\n",
    "        else :\n",
    "            return self.mechanism(value=val, D=None, b=0.1, epsilon=self.epsilon, delta = self.delta)\n",
    "\n",
    "\n",
    "class Vector_creator:\n",
    "    \n",
    "    def __init__(self, vector: np.array, timedp: object):\n",
    "        self.vector = vector\n",
    "        self.vector_length = len(vector)\n",
    "        self.timedp = timedp\n",
    "        self.mechanism_type =timedp.mechanism_type\n",
    "        self.extended_vector = self.make_extended_vector()\n",
    "        self.coordinates = self.make_coordinates()\n",
    "        self.gradient_list = self.prepare_for_gradient()\n",
    "        self.new_gradients = self.make_new_gradient()\n",
    "        self.new_function_forms = self.calculate_function_form()\n",
    "        self.new_vector = self.make_new_vector()\n",
    "        \n",
    "    def make_extended_vector(self):\n",
    "        '''\n",
    "        makes extended vector\n",
    "        '''\n",
    "        return make_extended_vector(vector=self.vector)\n",
    "    \n",
    "    def make_coordinates(self):\n",
    "        '''\n",
    "        makes x and y coordinate list \n",
    "        '''\n",
    "        extend_vector_length = self.vector_length * 2\n",
    "        xs = [x for x in x in range(0, extend_vector_length)]\n",
    "        return make_coordinate_list(xs, self.extended_vector, 2)\n",
    "    \n",
    "    \n",
    "    def prepare_for_gradient(self):\n",
    "        return give_calculated_gradient_list(self.extended_vector, step=2)\n",
    "    \n",
    "    def create_boundary(self, gradient):\n",
    "        if gradient < 0 :\n",
    "            return 2*gradient, 0\n",
    "        elif gradient > 0 :\n",
    "            return 0, 2*gradient\n",
    "        else :\n",
    "            return -1, 1\n",
    "            \n",
    "    def create_boundary_list(self):\n",
    "        return list(map(self.create_boundary, self.gradient_list))\n",
    "    \n",
    "    def make_new_gradient(self):\n",
    "        if self.mechanism_type == 'laplace':\n",
    "            return list(map(self.timedp(sens=0.1), self.gradient_list))\n",
    "        else :\n",
    "            boundary_list = self.create_boundary_list()\n",
    "            return list(map(lambda x, y : self.timedp(x, y), self.gradient_list, boundary_list))\n",
    "    \n",
    "    def calculate_function_form(self):\n",
    "        '''\n",
    "        list of (gradient and b)\n",
    "        '''\n",
    "        return list(map(lambda x, y : calculate_linear_function_form(x,y), self.coordinates, self.gradient_list))\n",
    "    \n",
    "    def make_new_value_based_on_new_gradient(self, gradient, b, x):\n",
    "        y = x*gradient + b\n",
    "        return y\n",
    "    \n",
    "    def make_new_vector(self):\n",
    "        extend_vector_length = self.vector_length * 2\n",
    "        xs = [x for x in x in range(0, extend_vector_length)][1::2]\n",
    "        return [self.make_new_value_based_on_new_gradient(g,b,x) for (g, b), x, in zip(self.new_function_forms, xs)]\n",
    "        \n",
    "        \n",
    "        \n"
   ]
  },
  {
   "cell_type": "code",
   "execution_count": 8,
   "metadata": {},
   "outputs": [
    {
     "data": {
      "text/plain": [
       "[<function __main__.<listcomp>.<lambda>(x, y, z)>,\n",
       " <function __main__.<listcomp>.<lambda>(x, y, z)>,\n",
       " <function __main__.<listcomp>.<lambda>(x, y, z)>]"
      ]
     },
     "execution_count": 8,
     "metadata": {},
     "output_type": "execute_result"
    }
   ],
   "source": [
    "[ for (i,u), p in zip([(1,2),(3,4),(5,6)],['a','b','c'])]"
   ]
  },
  {
   "cell_type": "code",
   "execution_count": 94,
   "metadata": {},
   "outputs": [
    {
     "data": {
      "text/plain": [
       "6"
      ]
     },
     "execution_count": 94,
     "metadata": {},
     "output_type": "execute_result"
    }
   ],
   "source": [
    "l = [1,2,3,4,5,6]\n",
    "len(l)"
   ]
  }
 ],
 "metadata": {
  "interpreter": {
   "hash": "f54204af7d368dd9ae8b1d8dbb5fbeeb4ed402dd90c2a491ee74228476e8faed"
  },
  "kernelspec": {
   "display_name": "Python 3.8.12 64-bit ('2022_MIMIC_DP_SYNTHESIS')",
   "language": "python",
   "name": "python3"
  },
  "language_info": {
   "codemirror_mode": {
    "name": "ipython",
    "version": 3
   },
   "file_extension": ".py",
   "mimetype": "text/x-python",
   "name": "python",
   "nbconvert_exporter": "python",
   "pygments_lexer": "ipython3",
   "version": "3.8.12"
  },
  "orig_nbformat": 4
 },
 "nbformat": 4,
 "nbformat_minor": 2
}
