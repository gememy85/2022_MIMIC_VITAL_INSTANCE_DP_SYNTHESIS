{
 "cells": [
  {
   "cell_type": "markdown",
   "metadata": {},
   "source": [
    "# Description\n",
    "\n",
    "This notebook is intended to do some experiments for testing the validity of the DP synthesizing method.\\\n",
    "Research topics are listed below.\n",
    "\n",
    "1. Data EDA\n",
    "2. Data comparison between real and synthesized ones(visually)\n",
    "3. Data comparison between real and synthesized ones with calculation : Methods needed(KL divergence or ..etc)\n",
    "4. Data comparison between real and synthesized ones with calculation : Measure auto-correlation\n",
    "5. Data usability : Build DL model for synthesized dataset and then train it with the synthetic data and test it to the original dataset"
   ]
  },
  {
   "cell_type": "code",
   "execution_count": 7,
   "metadata": {},
   "outputs": [],
   "source": [
    "import pandas as pd\n",
    "import numpy as np\n",
    "import matplotlib as plt\n",
    "from pathlib import Path\n",
    "import os, sys\n",
    "\n",
    "CURDIR = Path().absolute()\n",
    "PROJECT_DIR = CURDIR.parent\n",
    "DATA_DIR = PROJECT_DIR.joinpath('data/processed')\n",
    "\n",
    "sys.path.append(PROJECT_DIR.as_posix())\n",
    "from timedp.bounded_laplace_mechanism import boundedlaplacemechanism as BLM"
   ]
  },
  {
   "cell_type": "code",
   "execution_count": null,
   "metadata": {},
   "outputs": [],
   "source": []
  }
 ],
 "metadata": {
  "interpreter": {
   "hash": "f54204af7d368dd9ae8b1d8dbb5fbeeb4ed402dd90c2a491ee74228476e8faed"
  },
  "kernelspec": {
   "display_name": "Python 3.8.12 64-bit ('2022_MIMIC_DP_SYNTHESIS')",
   "language": "python",
   "name": "python3"
  },
  "language_info": {
   "codemirror_mode": {
    "name": "ipython",
    "version": 3
   },
   "file_extension": ".py",
   "mimetype": "text/x-python",
   "name": "python",
   "nbconvert_exporter": "python",
   "pygments_lexer": "ipython3",
   "version": "3.8.12"
  },
  "orig_nbformat": 4
 },
 "nbformat": 4,
 "nbformat_minor": 2
}
